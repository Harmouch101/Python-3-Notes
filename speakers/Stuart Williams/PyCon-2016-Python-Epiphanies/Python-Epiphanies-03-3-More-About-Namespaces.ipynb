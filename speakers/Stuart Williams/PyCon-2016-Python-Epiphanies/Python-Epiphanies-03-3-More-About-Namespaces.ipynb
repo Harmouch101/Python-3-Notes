{
 "cells": [
  {
   "cell_type": "markdown",
   "metadata": {},
   "source": [
    "# 3 More About Namespaces "
   ]
  },
  {
   "cell_type": "markdown",
   "metadata": {},
   "source": [
    "### 3.1 Namespace Scopes and Search Order"
   ]
  },
  {
   "cell_type": "markdown",
   "metadata": {},
   "source": [
    "\n",
    "Review:\n",
    "- A *namespace* is a mapping from valid identifier names to objects.\n",
    "  Think of it as a dictionary.\n",
    "\n",
    "- Simple assignment (`an_identifier =`) and `del` (`del an_identifier`) of a name are namespace\n",
    "  operations, not operations on objects.\n",
    "\n",
    "Terminology and Definitions:\n",
    "- A *scope* is a section of Python code where a namespace is *directly*\n",
    "  accessible.\n",
    "\n",
    "- For an *indirectly* accessible namespace you access values via dot\n",
    "  notation, e.g. `p.x` or `sys.version_info.major`.\n",
    "\n",
    "- The (*direct*) namespace search order is (from http://docs.python.org/3/tutorial):\n",
    "\n",
    "  - The innermost scope contains local names\n",
    "\n",
    "  - The namespaces of enclosing functions, searched starting\n",
    "    with the nearest enclosing scope; (or the module if outside any\n",
    "    function)\n",
    "\n",
    "  - The middle scope contains the current module's global names\n",
    "\n",
    "  - The outermost scope is the namespace containing built-in\n",
    "    names\n",
    "\n",
    "- All namespace *changes* happen in the local scope (i.e. in the current scope in\n",
    "  which the namespace-changing code executes):\n",
    "\n",
    "  - *name* `=` i.e. assignment\n",
    "  - `del` *name*\n",
    "  - `import` *name*\n",
    "  - `def` *name*\n",
    "  - `class` *name*\n",
    "  - function parameters: `def foo`(*name*)`:`\n",
    "  - `for` loop: `for` *name* `in ...`\n",
    "  - except clause: `Exception as` *name*`:`\n",
    "  - with clause: `with open(filename) as` *name*`:`\n",
    "  - docstrings: `__doc__`\n"
   ]
  },
  {
   "cell_type": "markdown",
   "metadata": {},
   "source": [
    "  You should never reassign built-in names..., but let's do so to\n",
    "explore how name scopes work."
   ]
  },
  {
   "cell_type": "code",
   "execution_count": null,
   "metadata": {},
   "outputs": [],
   "source": [
    "len"
   ]
  },
  {
   "cell_type": "code",
   "execution_count": null,
   "metadata": {},
   "outputs": [],
   "source": [
    "def f1():\n",
    "    print('In f1() a line 1, len = {}'.format(len))\n",
    "    def len():\n",
    "        len = range(3)\n",
    "        print(\"In f1's local len(), len is {}\".format(len))\n",
    "        return len\n",
    "    print('In f1() at line 6, len = {}'.format(len))\n",
    "    result = len()\n",
    "    print('Returning result: {!r}'.format(result))\n",
    "    return result"
   ]
  },
  {
   "cell_type": "code",
   "execution_count": null,
   "metadata": {},
   "outputs": [],
   "source": [
    "f1()"
   ]
  },
  {
   "cell_type": "code",
   "execution_count": null,
   "metadata": {},
   "outputs": [],
   "source": [
    "def f2():\n",
    "    def len():\n",
    "        # len = range(3)\n",
    "        print(\"In f1's local len(), len is {}\".format(len))\n",
    "        return len\n",
    "    print('In f1(), len = {}'.format(len))\n",
    "    result = len()\n",
    "    print('Returning result: {!r}'.format(result))\n",
    "    return result"
   ]
  },
  {
   "cell_type": "code",
   "execution_count": null,
   "metadata": {},
   "outputs": [],
   "source": [
    "f2()"
   ]
  },
  {
   "cell_type": "code",
   "execution_count": null,
   "metadata": {},
   "outputs": [],
   "source": [
    "len"
   ]
  },
  {
   "cell_type": "code",
   "execution_count": null,
   "metadata": {},
   "outputs": [],
   "source": [
    "len = 99"
   ]
  },
  {
   "cell_type": "code",
   "execution_count": null,
   "metadata": {},
   "outputs": [],
   "source": [
    "len"
   ]
  },
  {
   "cell_type": "code",
   "execution_count": null,
   "metadata": {},
   "outputs": [],
   "source": [
    "def print_len(s):\n",
    "    print('len(s) == {}'.format(len(s)))"
   ]
  },
  {
   "cell_type": "markdown",
   "metadata": {},
   "source": [
    " "
   ]
  },
  {
   "cell_type": "code",
   "execution_count": null,
   "metadata": {},
   "outputs": [],
   "source": [
    "print_len('walk')"
   ]
  },
  {
   "cell_type": "code",
   "execution_count": null,
   "metadata": {},
   "outputs": [],
   "source": [
    "len"
   ]
  },
  {
   "cell_type": "code",
   "execution_count": null,
   "metadata": {},
   "outputs": [],
   "source": [
    "del len"
   ]
  },
  {
   "cell_type": "code",
   "execution_count": null,
   "metadata": {},
   "outputs": [],
   "source": [
    "len"
   ]
  },
  {
   "cell_type": "code",
   "execution_count": null,
   "metadata": {},
   "outputs": [],
   "source": [
    "print_len('walk')"
   ]
  },
  {
   "cell_type": "code",
   "execution_count": null,
   "metadata": {},
   "outputs": [],
   "source": [
    "pass"
   ]
  },
  {
   "cell_type": "code",
   "execution_count": null,
   "metadata": {},
   "outputs": [],
   "source": [
    "pass = 3"
   ]
  },
  {
   "cell_type": "markdown",
   "metadata": {},
   "source": [
    "Keywords at https://docs.python.org/3/reference/lexical_analysis.html#keywords\n",
    "\n",
    "    False     class     finally   is        return\n",
    "    None      continue  for       lambda    try\n",
    "    True      def       from      nonlocal  while\n",
    "    and       del       global    not       with\n",
    "    as        elif      if        or        yield\n",
    "    assert    else      import    pass\n",
    "    break     except    in        raise"
   ]
  },
  {
   "cell_type": "markdown",
   "metadata": {},
   "source": [
    "### 3.2 Namespaces: Function Locals"
   ]
  },
  {
   "cell_type": "markdown",
   "metadata": {},
   "source": [
    "Let's look at some surprising behaviour."
   ]
  },
  {
   "cell_type": "code",
   "execution_count": null,
   "metadata": {},
   "outputs": [],
   "source": [
    "x = 1\n",
    "def test_outer_scope():\n",
    "    print('In test_outer_scope x ==', x)"
   ]
  },
  {
   "cell_type": "code",
   "execution_count": null,
   "metadata": {},
   "outputs": [],
   "source": [
    "test_outer_scope()"
   ]
  },
  {
   "cell_type": "code",
   "execution_count": null,
   "metadata": {},
   "outputs": [],
   "source": [
    "def test_local():\n",
    "    x = 2\n",
    "    print('In test_local x ==', x)"
   ]
  },
  {
   "cell_type": "code",
   "execution_count": null,
   "metadata": {},
   "outputs": [],
   "source": [
    "x"
   ]
  },
  {
   "cell_type": "code",
   "execution_count": null,
   "metadata": {},
   "outputs": [],
   "source": [
    "test_local()"
   ]
  },
  {
   "cell_type": "code",
   "execution_count": null,
   "metadata": {},
   "outputs": [],
   "source": [
    "x"
   ]
  },
  {
   "cell_type": "code",
   "execution_count": null,
   "metadata": {},
   "outputs": [],
   "source": [
    "def test_unbound_local():\n",
    "    print('In test_unbound_local  ==', x)\n",
    "    x = 3"
   ]
  },
  {
   "cell_type": "code",
   "execution_count": null,
   "metadata": {},
   "outputs": [],
   "source": [
    "x"
   ]
  },
  {
   "cell_type": "code",
   "execution_count": null,
   "metadata": {},
   "outputs": [],
   "source": [
    "test_unbound_local()"
   ]
  },
  {
   "cell_type": "code",
   "execution_count": null,
   "metadata": {},
   "outputs": [],
   "source": [
    "x"
   ]
  },
  {
   "cell_type": "markdown",
   "metadata": {},
   "source": [
    "  Let's introspect the function `test_unbound_local` to help us understand this error."
   ]
  },
  {
   "cell_type": "code",
   "execution_count": null,
   "metadata": {},
   "outputs": [],
   "source": [
    "test_unbound_local.__code__"
   ]
  },
  {
   "cell_type": "code",
   "execution_count": null,
   "metadata": {},
   "outputs": [],
   "source": [
    "test_unbound_local.__code__.co_argcount  # count of positional args"
   ]
  },
  {
   "cell_type": "code",
   "execution_count": null,
   "metadata": {},
   "outputs": [],
   "source": [
    "test_unbound_local.__code__.co_name  # function name"
   ]
  },
  {
   "cell_type": "code",
   "execution_count": null,
   "metadata": {},
   "outputs": [],
   "source": [
    "test_unbound_local.__code__.co_names  # names used in bytecode"
   ]
  },
  {
   "cell_type": "code",
   "execution_count": null,
   "metadata": {},
   "outputs": [],
   "source": [
    "test_unbound_local.__code__.co_nlocals  # number of locals"
   ]
  },
  {
   "cell_type": "code",
   "execution_count": null,
   "metadata": {},
   "outputs": [],
   "source": [
    "test_unbound_local.__code__.co_varnames  # names of locals"
   ]
  },
  {
   "cell_type": "markdown",
   "metadata": {},
   "source": [
    "  See \"Code objects\" at https://docs.python.org/3/reference/datamodel.html?highlight=co_nlocals#the-standard-type-hierarchy"
   ]
  },
  {
   "cell_type": "code",
   "execution_count": null,
   "metadata": {},
   "outputs": [],
   "source": [
    "import dis"
   ]
  },
  {
   "cell_type": "code",
   "execution_count": null,
   "metadata": {},
   "outputs": [],
   "source": [
    "dis.dis(test_unbound_local.__code__.co_code)"
   ]
  },
  {
   "cell_type": "markdown",
   "metadata": {},
   "source": [
    "  The use of `x` by LOAD_FAST happens before it's set by STORE_FAST."
   ]
  },
  {
   "cell_type": "markdown",
   "metadata": {},
   "source": [
    "\n",
    "> \"This is because when you make an assignment to a variable in a\n",
    "> scope, that variable becomes local to that scope and shadows any\n",
    "> similarly named variable in the outer scope. Since the last\n",
    "> statement in foo assigns a new value to x, the compiler recognizes\n",
    "> it as a local variable. Consequently when the earlier print x\n",
    "> attempts to print the uninitialized local variable and an error\n",
    "> results.\" --\n",
    "> https://docs.python.org/3/faq/programming.html#why-am-i-getting-an-unboundlocalerror-when-the-variable-has-a-value\n"
   ]
  },
  {
   "cell_type": "markdown",
   "metadata": {},
   "source": [
    "  To explore this further on your own compare these two:"
   ]
  },
  {
   "cell_type": "markdown",
   "metadata": {},
   "source": [
    "  `dis.dis(codeop.compile_command('def t1(): a = b; b = 7'))`  \n",
    "`dis.dis(codeop.compile_command('def t2(): b = 7; a = b'))`"
   ]
  },
  {
   "cell_type": "code",
   "execution_count": null,
   "metadata": {},
   "outputs": [],
   "source": [
    "def test_global():\n",
    "    global x\n",
    "    print('In test_global before, x ==', x)\n",
    "    x = 4\n",
    "    print('In test_global after, x ==', x)"
   ]
  },
  {
   "cell_type": "markdown",
   "metadata": {},
   "source": [
    " "
   ]
  },
  {
   "cell_type": "code",
   "execution_count": null,
   "metadata": {},
   "outputs": [],
   "source": [
    "x"
   ]
  },
  {
   "cell_type": "code",
   "execution_count": null,
   "metadata": {},
   "outputs": [],
   "source": [
    "test_global()"
   ]
  },
  {
   "cell_type": "code",
   "execution_count": null,
   "metadata": {},
   "outputs": [],
   "source": [
    "x"
   ]
  },
  {
   "cell_type": "markdown",
   "metadata": {},
   "source": [
    " "
   ]
  },
  {
   "cell_type": "code",
   "execution_count": null,
   "metadata": {},
   "outputs": [],
   "source": [
    "test_global.__code__.co_varnames"
   ]
  },
  {
   "cell_type": "markdown",
   "metadata": {},
   "source": [
    "  Note LOAD_GLOBAL instead of LOAD_FAST:"
   ]
  },
  {
   "cell_type": "code",
   "execution_count": null,
   "metadata": {},
   "outputs": [],
   "source": [
    "dis.dis(test_global.__code__.co_code)"
   ]
  },
  {
   "cell_type": "markdown",
   "metadata": {},
   "source": [
    " "
   ]
  },
  {
   "cell_type": "code",
   "execution_count": null,
   "metadata": {},
   "outputs": [],
   "source": [
    "def test_nonlocal():\n",
    "    x = 5\n",
    "    def test6():\n",
    "        nonlocal x\n",
    "        print('test6 before x ==', x)\n",
    "        x = 6\n",
    "        print('test6 after x ==', x)\n",
    "    print('test_nonlocal before x ==', x)\n",
    "    test6()\n",
    "    print('test_nonlocal after x ==', x)"
   ]
  },
  {
   "cell_type": "markdown",
   "metadata": {},
   "source": [
    " "
   ]
  },
  {
   "cell_type": "code",
   "execution_count": null,
   "metadata": {},
   "outputs": [],
   "source": [
    "x = 1"
   ]
  },
  {
   "cell_type": "code",
   "execution_count": null,
   "metadata": {},
   "outputs": [],
   "source": [
    "x"
   ]
  },
  {
   "cell_type": "code",
   "execution_count": null,
   "metadata": {},
   "outputs": [],
   "source": [
    "test_nonlocal()"
   ]
  },
  {
   "cell_type": "code",
   "execution_count": null,
   "metadata": {},
   "outputs": [],
   "source": [
    "x"
   ]
  }
 ],
 "metadata": {},
 "nbformat": 4,
 "nbformat_minor": 0
}